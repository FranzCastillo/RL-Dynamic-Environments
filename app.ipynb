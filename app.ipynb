{
 "cells": [
  {
   "metadata": {},
   "cell_type": "markdown",
   "source": [
    "# Laboratorio 6\n",
    "Francisco Castillo - 21562\n",
    "\n",
    "Diego Lemus - 21"
   ],
   "id": "5e7db923447cf7ee"
  },
  {
   "metadata": {},
   "cell_type": "markdown",
   "source": [
    "## Task 1\n",
    "### ¿Qué es Prioritized Sweeping para ambientes determinísticos?\n",
    "Es una técnica de planeamiento que permite acelerar la propagación de los valores de los estados sin necesidad de actualizarlos todos uniformemente. En lugar de recorrer cada estado del espacio, se utiliza una cola de prioridades en la que se ordenan los estados según la magnitud del cambio que producen en sus valores. Cuando un estado se actualiza significativamente, los estados predecesores que llevan a él se incorporan a la cola para ser actualizados después. De este modo, los cambios en el valor de un estado se propagan hacia atrás de manera más eficiente, evitando cálculos innecesarios y enfocándose en las partes del espacio de estados donde realmente importa. En ambientes determinísticos esto resulta especialmente potente, ya que cada acción tiene un único resultado y la propagación de los valores puede seguir trayectorias claras.\n",
    "\n",
    "### ¿Qué es Trajectory Sampling?\n",
    "Es una técnica que evita la necesidad de explorar todo el árbol de estados y acciones posibles durante el planeamiento. En lugar de un análisis exhaustivo, el método simula trayectorias completas o episodios ficticios siguiendo la política actual y va actualizando los valores de los estados y acciones visitados en ese recorrido.\n",
    "\n",
    "### ¿Qué es Upper Confidence Bounds para Árboles (UCT)?\n",
    "Es una estrategia de selección que resuelve el dilema entre exploración y explotación. Para cada acción, combina el valor promedio estimado de los resultados obtenidos hasta el momento con un término de confianza que favorece aquellas opciones que han sido probadas pocas veces. De esta manera, el algoritmo asegura que no se quede únicamente con las ramas que parecen mejores al inicio, sino que también explore alternativas menos visitadas que podrían resultar óptimas."
   ],
   "id": "45a9e64a2bda221b"
  },
  {
   "metadata": {},
   "cell_type": "markdown",
   "source": "## Task 2. MCTS",
   "id": "3418e32978b256c8"
  },
  {
   "metadata": {
    "ExecuteTime": {
     "end_time": "2025-08-24T22:11:30.429244Z",
     "start_time": "2025-08-24T22:11:29.678297Z"
    }
   },
   "cell_type": "code",
   "source": [
    "import random\n",
    "import numpy as np\n",
    "import gymnasium as gym\n",
    "import math\n",
    "import matplotlib.pyplot as plt"
   ],
   "id": "7e045cb8c05c07e0",
   "outputs": [],
   "execution_count": 1
  },
  {
   "metadata": {
    "ExecuteTime": {
     "end_time": "2025-08-24T22:11:30.459280Z",
     "start_time": "2025-08-24T22:11:30.435245Z"
    }
   },
   "cell_type": "code",
   "source": "from utils.mcts.Agent import Agent as MCTS",
   "id": "9cf00700c08239d",
   "outputs": [],
   "execution_count": 2
  },
  {
   "metadata": {
    "ExecuteTime": {
     "end_time": "2025-08-24T22:11:30.879537Z",
     "start_time": "2025-08-24T22:11:30.865917Z"
    }
   },
   "cell_type": "code",
   "source": [
    "SEED = 42\n",
    "random.seed(SEED)\n",
    "np.random.seed(SEED)"
   ],
   "id": "fff66f18be310b23",
   "outputs": [],
   "execution_count": 3
  },
  {
   "metadata": {
    "ExecuteTime": {
     "end_time": "2025-08-24T22:11:30.926334Z",
     "start_time": "2025-08-24T22:11:30.912320Z"
    }
   },
   "cell_type": "code",
   "source": [
    "agent = MCTS(\n",
    "    seed=SEED,\n",
    "    total_episodes=1000,\n",
    "    max_steps_per_episode=100,\n",
    "    simulations_per_decision=100,\n",
    "    exploration_constant=1.4,\n",
    "    rollout_depth=10,\n",
    "    discount_factor=0.99\n",
    ")"
   ],
   "id": "9672895fdd47a78c",
   "outputs": [],
   "execution_count": 4
  },
  {
   "metadata": {
    "ExecuteTime": {
     "end_time": "2025-08-24T22:15:09.777274Z",
     "start_time": "2025-08-24T22:11:30.945323Z"
    }
   },
   "cell_type": "code",
   "source": "agent.run()",
   "id": "4b5dc094a68a21a7",
   "outputs": [
    {
     "data": {
      "text/plain": [
       "{'rewards': array([0., 0., 0., 0., 1., 1., 0., 1., 0., 0., 0., 1., 1., 1., 0., 0., 0.,\n",
       "        0., 0., 0., 0., 1., 1., 0., 0., 1., 1., 1., 0., 1., 1., 0., 1., 1.,\n",
       "        1., 0., 1., 0., 0., 1., 0., 1., 0., 0., 1., 1., 0., 0., 0., 0., 0.,\n",
       "        1., 1., 0., 0., 1., 1., 1., 1., 1., 0., 0., 0., 0., 0., 1., 0., 0.,\n",
       "        1., 1., 1., 1., 1., 1., 0., 1., 0., 0., 0., 0., 1., 0., 0., 0., 0.,\n",
       "        1., 1., 1., 0., 1., 0., 1., 0., 1., 1., 1., 0., 1., 1., 0., 1., 0.,\n",
       "        1., 1., 1., 1., 1., 0., 0., 0., 1., 0., 1., 1., 0., 1., 1., 0., 1.,\n",
       "        1., 1., 1., 0., 0., 1., 0., 0., 1., 1., 0., 1., 1., 1., 1., 1., 1.,\n",
       "        1., 0., 1., 1., 0., 1., 0., 1., 0., 0., 0., 1., 0., 0., 0., 1., 1.,\n",
       "        1., 0., 0., 0., 1., 0., 1., 1., 0., 0., 1., 1., 1., 1., 1., 0., 1.,\n",
       "        0., 1., 0., 1., 0., 1., 0., 1., 1., 0., 1., 1., 0., 1., 0., 0., 1.,\n",
       "        1., 0., 0., 0., 0., 1., 1., 1., 0., 0., 0., 1., 1., 1., 1., 0., 1.,\n",
       "        0., 1., 1., 0., 1., 0., 1., 0., 1., 0., 0., 0., 0., 1., 1., 1., 0.,\n",
       "        1., 0., 0., 0., 1., 0., 1., 1., 1., 1., 1., 0., 0., 1., 0., 1., 1.,\n",
       "        0., 0., 0., 1., 1., 1., 1., 1., 0., 1., 0., 0., 0., 0., 0., 1., 1.,\n",
       "        0., 1., 0., 1., 1., 0., 1., 0., 0., 0., 1., 0., 0., 1., 0., 0., 0.,\n",
       "        0., 1., 1., 0., 1., 1., 1., 0., 0., 1., 1., 0., 1., 1., 0., 0., 1.,\n",
       "        0., 0., 1., 1., 0., 0., 0., 1., 1., 0., 0., 1., 0., 1., 0., 1., 1.,\n",
       "        1., 1., 1., 0., 1., 0., 1., 0., 1., 0., 1., 1., 1., 0., 1., 1., 0.,\n",
       "        1., 1., 0., 0., 1., 0., 0., 0., 1., 0., 1., 0., 1., 1., 1., 1., 1.,\n",
       "        1., 0., 0., 1., 1., 1., 1., 0., 0., 0., 1., 0., 1., 1., 1., 0., 0.,\n",
       "        0., 1., 0., 0., 0., 1., 1., 0., 1., 1., 1., 1., 0., 1., 0., 0., 1.,\n",
       "        0., 0., 0., 0., 0., 0., 1., 0., 0., 0., 1., 1., 0., 1., 1., 0., 1.,\n",
       "        1., 0., 0., 0., 0., 1., 0., 0., 0., 1., 1., 1., 1., 0., 1., 0., 1.,\n",
       "        1., 1., 1., 1., 1., 1., 0., 1., 1., 1., 1., 1., 1., 0., 1., 0., 1.,\n",
       "        0., 1., 0., 0., 0., 0., 0., 1., 0., 1., 0., 1., 1., 1., 0., 0., 0.,\n",
       "        0., 0., 0., 1., 0., 0., 1., 0., 0., 0., 1., 1., 1., 0., 0., 1., 1.,\n",
       "        1., 1., 0., 0., 0., 1., 0., 1., 1., 1., 0., 0., 1., 0., 1., 0., 1.,\n",
       "        1., 1., 0., 1., 0., 0., 0., 0., 0., 1., 0., 1., 0., 1., 0., 0., 0.,\n",
       "        1., 0., 1., 1., 1., 1., 1., 0., 0., 0., 0., 0., 1., 1., 1., 1., 0.,\n",
       "        0., 0., 1., 1., 0., 0., 0., 1., 0., 1., 0., 0., 1., 0., 1., 1., 1.,\n",
       "        0., 0., 0., 0., 0., 0., 0., 1., 0., 1., 0., 0., 1., 1., 0., 0., 1.,\n",
       "        0., 1., 1., 1., 1., 0., 0., 1., 0., 1., 1., 0., 0., 0., 1., 0., 0.,\n",
       "        0., 1., 1., 1., 1., 1., 0., 1., 0., 1., 1., 0., 1., 0., 0., 0., 1.,\n",
       "        0., 1., 1., 1., 1., 1., 1., 0., 1., 1., 0., 1., 1., 0., 1., 0., 0.,\n",
       "        1., 0., 0., 0., 0., 0., 1., 1., 1., 0., 1., 1., 0., 0., 1., 1., 0.,\n",
       "        0., 1., 0., 1., 0., 1., 0., 1., 1., 1., 0., 1., 0., 0., 0., 1., 0.,\n",
       "        0., 0., 1., 1., 0., 1., 1., 1., 1., 1., 1., 0., 0., 0., 0., 0., 0.,\n",
       "        0., 0., 1., 0., 0., 1., 0., 1., 0., 0., 1., 1., 1., 1., 1., 0., 0.,\n",
       "        0., 0., 1., 1., 0., 1., 1., 0., 1., 1., 0., 0., 0., 1., 1., 0., 0.,\n",
       "        0., 0., 1., 0., 0., 1., 1., 1., 0., 0., 1., 1., 0., 1., 0., 0., 1.,\n",
       "        1., 0., 1., 1., 1., 1., 1., 1., 1., 1., 1., 0., 1., 0., 0., 1., 0.,\n",
       "        1., 0., 0., 1., 1., 0., 0., 0., 1., 1., 0., 0., 1., 0., 0., 1., 0.,\n",
       "        0., 0., 0., 0., 1., 0., 0., 0., 0., 1., 1., 1., 1., 1., 0., 0., 1.,\n",
       "        0., 1., 1., 1., 1., 1., 1., 0., 1., 0., 1., 0., 1., 1., 1., 0., 1.,\n",
       "        0., 0., 0., 1., 0., 1., 1., 1., 0., 0., 0., 1., 1., 1., 0., 0., 1.,\n",
       "        1., 1., 1., 1., 1., 1., 1., 1., 0., 0., 0., 0., 0., 0., 1., 1., 0.,\n",
       "        0., 1., 1., 1., 1., 0., 1., 1., 1., 0., 1., 0., 0., 1., 0., 0., 0.,\n",
       "        0., 0., 1., 1., 1., 1., 1., 0., 1., 0., 1., 1., 1., 1., 1., 1., 1.,\n",
       "        1., 1., 1., 1., 1., 1., 1., 1., 0., 1., 0., 0., 0., 1., 1., 1., 0.,\n",
       "        1., 0., 0., 1., 1., 0., 0., 0., 0., 1., 1., 0., 1., 0., 1., 1., 0.,\n",
       "        1., 0., 0., 0., 0., 0., 1., 1., 0., 0., 1., 1., 0., 1., 0., 0., 0.,\n",
       "        1., 1., 0., 0., 0., 0., 1., 0., 0., 1., 0., 0., 1., 1., 1., 0., 0.,\n",
       "        1., 1., 0., 0., 1., 1., 0., 1., 0., 1., 1., 1., 1., 0., 1., 1., 1.,\n",
       "        1., 1., 0., 1., 0., 0., 1., 1., 1., 1., 0., 0., 0., 1., 1., 1., 1.,\n",
       "        0., 1., 0., 0., 0., 1., 1., 1., 0., 0., 0., 0., 0., 1., 0., 1., 1.,\n",
       "        0., 1., 0., 0., 0., 0., 0., 1., 0., 1., 1., 0., 0., 0., 0., 0., 1.,\n",
       "        0., 0., 1., 0., 1., 0., 0., 1., 1., 1., 1., 0., 0., 1., 1., 0., 0.,\n",
       "        0., 1., 0., 1., 0., 0., 1., 0., 0., 1., 1., 0., 0., 1.]),\n",
       " 'successes': array([0, 0, 0, 0, 1, 1, 0, 1, 0, 0, 0, 1, 1, 1, 0, 0, 0, 0, 0, 0, 0, 1,\n",
       "        1, 0, 0, 1, 1, 1, 0, 1, 1, 0, 1, 1, 1, 0, 1, 0, 0, 1, 0, 1, 0, 0,\n",
       "        1, 1, 0, 0, 0, 0, 0, 1, 1, 0, 0, 1, 1, 1, 1, 1, 0, 0, 0, 0, 0, 1,\n",
       "        0, 0, 1, 1, 1, 1, 1, 1, 0, 1, 0, 0, 0, 0, 1, 0, 0, 0, 0, 1, 1, 1,\n",
       "        0, 1, 0, 1, 0, 1, 1, 1, 0, 1, 1, 0, 1, 0, 1, 1, 1, 1, 1, 0, 0, 0,\n",
       "        1, 0, 1, 1, 0, 1, 1, 0, 1, 1, 1, 1, 0, 0, 1, 0, 0, 1, 1, 0, 1, 1,\n",
       "        1, 1, 1, 1, 1, 0, 1, 1, 0, 1, 0, 1, 0, 0, 0, 1, 0, 0, 0, 1, 1, 1,\n",
       "        0, 0, 0, 1, 0, 1, 1, 0, 0, 1, 1, 1, 1, 1, 0, 1, 0, 1, 0, 1, 0, 1,\n",
       "        0, 1, 1, 0, 1, 1, 0, 1, 0, 0, 1, 1, 0, 0, 0, 0, 1, 1, 1, 0, 0, 0,\n",
       "        1, 1, 1, 1, 0, 1, 0, 1, 1, 0, 1, 0, 1, 0, 1, 0, 0, 0, 0, 1, 1, 1,\n",
       "        0, 1, 0, 0, 0, 1, 0, 1, 1, 1, 1, 1, 0, 0, 1, 0, 1, 1, 0, 0, 0, 1,\n",
       "        1, 1, 1, 1, 0, 1, 0, 0, 0, 0, 0, 1, 1, 0, 1, 0, 1, 1, 0, 1, 0, 0,\n",
       "        0, 1, 0, 0, 1, 0, 0, 0, 0, 1, 1, 0, 1, 1, 1, 0, 0, 1, 1, 0, 1, 1,\n",
       "        0, 0, 1, 0, 0, 1, 1, 0, 0, 0, 1, 1, 0, 0, 1, 0, 1, 0, 1, 1, 1, 1,\n",
       "        1, 0, 1, 0, 1, 0, 1, 0, 1, 1, 1, 0, 1, 1, 0, 1, 1, 0, 0, 1, 0, 0,\n",
       "        0, 1, 0, 1, 0, 1, 1, 1, 1, 1, 1, 0, 0, 1, 1, 1, 1, 0, 0, 0, 1, 0,\n",
       "        1, 1, 1, 0, 0, 0, 1, 0, 0, 0, 1, 1, 0, 1, 1, 1, 1, 0, 1, 0, 0, 1,\n",
       "        0, 0, 0, 0, 0, 0, 1, 0, 0, 0, 1, 1, 0, 1, 1, 0, 1, 1, 0, 0, 0, 0,\n",
       "        1, 0, 0, 0, 1, 1, 1, 1, 0, 1, 0, 1, 1, 1, 1, 1, 1, 1, 0, 1, 1, 1,\n",
       "        1, 1, 1, 0, 1, 0, 1, 0, 1, 0, 0, 0, 0, 0, 1, 0, 1, 0, 1, 1, 1, 0,\n",
       "        0, 0, 0, 0, 0, 1, 0, 0, 1, 0, 0, 0, 1, 1, 1, 0, 0, 1, 1, 1, 1, 0,\n",
       "        0, 0, 1, 0, 1, 1, 1, 0, 0, 1, 0, 1, 0, 1, 1, 1, 0, 1, 0, 0, 0, 0,\n",
       "        0, 1, 0, 1, 0, 1, 0, 0, 0, 1, 0, 1, 1, 1, 1, 1, 0, 0, 0, 0, 0, 1,\n",
       "        1, 1, 1, 0, 0, 0, 1, 1, 0, 0, 0, 1, 0, 1, 0, 0, 1, 0, 1, 1, 1, 0,\n",
       "        0, 0, 0, 0, 0, 0, 1, 0, 1, 0, 0, 1, 1, 0, 0, 1, 0, 1, 1, 1, 1, 0,\n",
       "        0, 1, 0, 1, 1, 0, 0, 0, 1, 0, 0, 0, 1, 1, 1, 1, 1, 0, 1, 0, 1, 1,\n",
       "        0, 1, 0, 0, 0, 1, 0, 1, 1, 1, 1, 1, 1, 0, 1, 1, 0, 1, 1, 0, 1, 0,\n",
       "        0, 1, 0, 0, 0, 0, 0, 1, 1, 1, 0, 1, 1, 0, 0, 1, 1, 0, 0, 1, 0, 1,\n",
       "        0, 1, 0, 1, 1, 1, 0, 1, 0, 0, 0, 1, 0, 0, 0, 1, 1, 0, 1, 1, 1, 1,\n",
       "        1, 1, 0, 0, 0, 0, 0, 0, 0, 0, 1, 0, 0, 1, 0, 1, 0, 0, 1, 1, 1, 1,\n",
       "        1, 0, 0, 0, 0, 1, 1, 0, 1, 1, 0, 1, 1, 0, 0, 0, 1, 1, 0, 0, 0, 0,\n",
       "        1, 0, 0, 1, 1, 1, 0, 0, 1, 1, 0, 1, 0, 0, 1, 1, 0, 1, 1, 1, 1, 1,\n",
       "        1, 1, 1, 1, 0, 1, 0, 0, 1, 0, 1, 0, 0, 1, 1, 0, 0, 0, 1, 1, 0, 0,\n",
       "        1, 0, 0, 1, 0, 0, 0, 0, 0, 1, 0, 0, 0, 0, 1, 1, 1, 1, 1, 0, 0, 1,\n",
       "        0, 1, 1, 1, 1, 1, 1, 0, 1, 0, 1, 0, 1, 1, 1, 0, 1, 0, 0, 0, 1, 0,\n",
       "        1, 1, 1, 0, 0, 0, 1, 1, 1, 0, 0, 1, 1, 1, 1, 1, 1, 1, 1, 1, 0, 0,\n",
       "        0, 0, 0, 0, 1, 1, 0, 0, 1, 1, 1, 1, 0, 1, 1, 1, 0, 1, 0, 0, 1, 0,\n",
       "        0, 0, 0, 0, 1, 1, 1, 1, 1, 0, 1, 0, 1, 1, 1, 1, 1, 1, 1, 1, 1, 1,\n",
       "        1, 1, 1, 1, 1, 0, 1, 0, 0, 0, 1, 1, 1, 0, 1, 0, 0, 1, 1, 0, 0, 0,\n",
       "        0, 1, 1, 0, 1, 0, 1, 1, 0, 1, 0, 0, 0, 0, 0, 1, 1, 0, 0, 1, 1, 0,\n",
       "        1, 0, 0, 0, 1, 1, 0, 0, 0, 0, 1, 0, 0, 1, 0, 0, 1, 1, 1, 0, 0, 1,\n",
       "        1, 0, 0, 1, 1, 0, 1, 0, 1, 1, 1, 1, 0, 1, 1, 1, 1, 1, 0, 1, 0, 0,\n",
       "        1, 1, 1, 1, 0, 0, 0, 1, 1, 1, 1, 0, 1, 0, 0, 0, 1, 1, 1, 0, 0, 0,\n",
       "        0, 0, 1, 0, 1, 1, 0, 1, 0, 0, 0, 0, 0, 1, 0, 1, 1, 0, 0, 0, 0, 0,\n",
       "        1, 0, 0, 1, 0, 1, 0, 0, 1, 1, 1, 1, 0, 0, 1, 1, 0, 0, 0, 1, 0, 1,\n",
       "        0, 0, 1, 0, 0, 1, 1, 0, 0, 1]),\n",
       " 'steps': array([100, 100, 100, 100,  12,   8, 100,   7, 100, 100, 100,  63,  84,\n",
       "         18, 100, 100, 100, 100, 100, 100, 100,  21,  12, 100, 100,  14,\n",
       "         49,  12, 100,  57,  16, 100,  39,  16,  91, 100,  14, 100, 100,\n",
       "         44, 100,  31, 100, 100,  14,  73, 100, 100, 100, 100, 100,  54,\n",
       "         26, 100, 100,  13,  42,  72,  43,  28, 100, 100, 100, 100, 100,\n",
       "         15, 100, 100,  17,  11,  13,  20,  49,  39, 100,  23, 100, 100,\n",
       "        100, 100,  30, 100, 100, 100, 100,  14,  23,  47, 100,  33, 100,\n",
       "         58, 100,  24,  46,  42, 100,  45,  51, 100,  25, 100,  25,  25,\n",
       "         76,  27,  11, 100, 100, 100,  25, 100,  11,  11, 100,   8,  33,\n",
       "        100,  31,  16,  32,   9, 100, 100,   9, 100, 100,  20,  34, 100,\n",
       "         23,  19,  15,  11,  29,  18,  19, 100,  48,  66, 100,  18, 100,\n",
       "         48, 100, 100, 100,  17, 100, 100, 100,  16,  30,  18, 100, 100,\n",
       "        100,  46, 100,  76,  59, 100, 100,   9,   9,  26,  56,  50, 100,\n",
       "         29, 100,  35, 100,  42, 100,  17, 100,  13,  23, 100,  33,  36,\n",
       "        100,  30, 100, 100,  58,  33, 100, 100, 100, 100,  80,  35,  64,\n",
       "        100, 100, 100,  39,  72,  20,  32, 100,  16, 100,  77,  26, 100,\n",
       "         18, 100,  27, 100,  16, 100, 100, 100, 100,  13,  74,  20, 100,\n",
       "         36, 100, 100, 100,  21, 100,   8,  33,  42,  55,  45, 100, 100,\n",
       "         23, 100,  14,  24, 100, 100, 100, 100,  18,  62,  84,  52, 100,\n",
       "         15, 100, 100, 100, 100, 100,  27,  22, 100,  20, 100,  44,  12,\n",
       "        100,  32, 100, 100, 100,  34, 100, 100,  51, 100, 100, 100, 100,\n",
       "         17,  54, 100,  30,  52,  43, 100, 100,  20,  16, 100,  36,  38,\n",
       "        100, 100,  57, 100, 100,  43,  32, 100, 100, 100,  11,  28, 100,\n",
       "        100,  24, 100,  41, 100,  38,  14,  24,   6,  78, 100,  16, 100,\n",
       "         64, 100,  76, 100,  14,  56,  20, 100,  27,   7, 100,  10,  35,\n",
       "        100, 100,  28, 100, 100, 100,  17, 100,  17, 100,  18,  17,  64,\n",
       "         11,  41,  14, 100, 100,  22,  32,  28,  48, 100, 100, 100,   7,\n",
       "        100,  54,  10,  29, 100, 100, 100,  25, 100, 100, 100,  44,  27,\n",
       "        100,  97,  17,  32,  83, 100,  22, 100, 100,  22, 100, 100, 100,\n",
       "        100, 100, 100,  37, 100, 100, 100,  57,  68, 100,  20,  12, 100,\n",
       "         33,  23, 100, 100, 100, 100,  48, 100, 100, 100,  36,  64,  26,\n",
       "         29, 100,  46, 100,  33,   6,  76,  25,  32,  35,  24, 100,  41,\n",
       "         30,  25,  28,  37,  10, 100,  30, 100,  62, 100,  37, 100, 100,\n",
       "        100, 100, 100,  26, 100,  87, 100,  20,  40,  21, 100, 100, 100,\n",
       "        100, 100, 100,  43, 100, 100,  28, 100, 100, 100,  74,  24,  12,\n",
       "        100, 100,  22,  30,  24,  44, 100, 100, 100,  12, 100,  24,  28,\n",
       "         38, 100, 100,  22, 100,  80, 100,  40,  53,  25, 100,  14, 100,\n",
       "        100, 100, 100, 100,  33, 100,   9, 100,  57, 100, 100, 100,  67,\n",
       "        100,  30,  40,  19,  21,  12, 100, 100, 100, 100, 100,  10,  25,\n",
       "         18,  49, 100, 100, 100,  14,   8, 100, 100, 100,  26, 100,  70,\n",
       "        100, 100,  53, 100,  33,  26,  17, 100, 100, 100, 100, 100, 100,\n",
       "        100,  11, 100,  49, 100, 100,  50,  17, 100, 100,  39, 100,  42,\n",
       "         20,  35,  16, 100, 100,  20, 100,  73,  28, 100, 100, 100,  20,\n",
       "        100, 100, 100,  10,  34,  38,  32,  10, 100,   8, 100,  27,  52,\n",
       "        100,  53, 100, 100, 100,  29, 100,  53,  13,  11,  26,  52,  19,\n",
       "        100,  70,  13, 100,  28,  14, 100,  44, 100, 100,  11, 100, 100,\n",
       "        100, 100, 100,  28,  22,  33, 100,   7,  27, 100, 100,  40,  64,\n",
       "        100, 100,  19, 100,  16, 100,  21, 100,  10,  23,  15, 100,  23,\n",
       "        100, 100, 100,  53, 100, 100, 100,  61,  32, 100,  32,  41,  17,\n",
       "         53,  17,  19, 100, 100, 100, 100, 100, 100, 100, 100,  39, 100,\n",
       "        100,  24, 100,   9, 100, 100,  26,  29,  21,  31,  73, 100, 100,\n",
       "        100, 100,  14,  19, 100,  42,  23, 100,  25,  23, 100, 100, 100,\n",
       "         42,  21, 100, 100, 100, 100,  34, 100, 100,  34,  17,  20, 100,\n",
       "        100,   6,  42, 100,  19, 100, 100,  28,  28, 100,  13,  66,  53,\n",
       "         32,  22,  15,  18,  35,  15, 100,   8, 100, 100,  18, 100,  22,\n",
       "        100, 100,  37,  22, 100, 100, 100,  11,  18, 100, 100,   9, 100,\n",
       "        100,  45, 100, 100, 100, 100, 100,  30, 100, 100, 100, 100,  17,\n",
       "         18,  66,  50,  14, 100, 100,  47, 100,  59,  48,  53,  35,  40,\n",
       "         40, 100,  30, 100,   9, 100,  50,  19,  21, 100,  39, 100, 100,\n",
       "        100,  29, 100,  13,  12,  66, 100, 100, 100,  20,  15,  75, 100,\n",
       "        100,  24,  26,  46,  66,  39,  41,  49,  32,  11, 100, 100, 100,\n",
       "        100, 100, 100,  24,  61, 100, 100,  40,  21,  37,  13, 100,  33,\n",
       "         30,  16, 100,  12, 100, 100,  28, 100, 100, 100, 100, 100,  19,\n",
       "         45,  36,   8,  17, 100,  34, 100,  48,  26,  26,  31,  10,  31,\n",
       "         34,  18,  60,  25,   8,  45,  34,  29,  59, 100,  26, 100, 100,\n",
       "        100,  33,  20,  15, 100,  41, 100, 100,  21,  22, 100, 100, 100,\n",
       "        100,  11,  27, 100,  33, 100,  36,  78, 100,  17, 100, 100, 100,\n",
       "        100, 100,  10,  65, 100, 100,  37,  32, 100,  14, 100, 100, 100,\n",
       "         32,  25, 100, 100, 100, 100,  12, 100, 100,  32, 100, 100,  12,\n",
       "         10,  21, 100, 100,  34,  18, 100, 100,  12,  29, 100,  33, 100,\n",
       "         57,  43,  24,  28, 100,  13,  52,  17,  15,  19, 100,  45, 100,\n",
       "        100,  67,  29,  67,  52, 100, 100, 100,   8,  21,  38,  33, 100,\n",
       "         19, 100, 100, 100,  47,  49,  43, 100, 100, 100, 100, 100,  13,\n",
       "        100,  11,  41, 100,  31, 100, 100, 100, 100, 100,  39, 100,  34,\n",
       "         32, 100, 100, 100, 100, 100,  14, 100, 100,   8, 100,  64, 100,\n",
       "        100,  25,  21,  17,  44, 100, 100,  39,  33, 100, 100, 100,  11,\n",
       "        100,  25, 100, 100,  30, 100, 100,  38,  49, 100, 100,  19])}"
      ]
     },
     "execution_count": 5,
     "metadata": {},
     "output_type": "execute_result"
    }
   ],
   "execution_count": 5
  },
  {
   "metadata": {
    "ExecuteTime": {
     "end_time": "2025-08-24T22:15:11.607728Z",
     "start_time": "2025-08-24T22:15:09.874619Z"
    }
   },
   "cell_type": "code",
   "source": "agent.display_performance(window_size=75)",
   "id": "5a2199594bd30145",
   "outputs": [
    {
     "data": {
      "text/plain": [
       "<Figure size 640x480 with 1 Axes>"
      ],
      "image/png": "[encoded data removed]"
     },
     "metadata": {},
     "output_type": "display_data"
    }
   ],
   "execution_count": 6
  }
 ],
 "metadata": {
  "kernelspec": {
   "display_name": "Python 3",
   "language": "python",
   "name": "python3"
  },
  "language_info": {
   "codemirror_mode": {
    "name": "ipython",
    "version": 2
   },
   "file_extension": ".py",
   "mimetype": "text/x-python",
   "name": "python",
   "nbconvert_exporter": "python",
   "pygments_lexer": "ipython2",
   "version": "2.7.6"
  }
 },
 "nbformat": 4,
 "nbformat_minor": 5
}
